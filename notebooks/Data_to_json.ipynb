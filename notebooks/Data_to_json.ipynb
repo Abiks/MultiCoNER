{
 "cells": [
  {
   "cell_type": "code",
   "execution_count": 1,
   "id": "2dab657b",
   "metadata": {},
   "outputs": [],
   "source": [
    "import os"
   ]
  },
  {
   "cell_type": "code",
   "execution_count": 2,
   "id": "862f457e",
   "metadata": {},
   "outputs": [],
   "source": [
    "from pathlib import Path"
   ]
  },
  {
   "cell_type": "code",
   "execution_count": 3,
   "id": "75c35e7a",
   "metadata": {},
   "outputs": [],
   "source": [
    "path_to_data = Path('../data')"
   ]
  },
  {
   "cell_type": "code",
   "execution_count": 4,
   "id": "e9f6f8c8",
   "metadata": {},
   "outputs": [],
   "source": [
    "langdirs = [\n",
    "    d for d in os.listdir(path_to_data) \n",
    "    if '.' not in d  # exclude files and hidden folders\n",
    "]"
   ]
  },
  {
   "cell_type": "code",
   "execution_count": 5,
   "id": "4f7a0d34",
   "metadata": {},
   "outputs": [
    {
     "data": {
      "text/plain": [
       "['BN-Bangla',\n",
       " 'DE-German',\n",
       " 'EN-English',\n",
       " 'ES-Spanish',\n",
       " 'FA-Farsi',\n",
       " 'HI-Hindi',\n",
       " 'KO-Korean',\n",
       " 'NL-Dutch',\n",
       " 'RU-Russian',\n",
       " 'TR-Turkish',\n",
       " 'ZH-Chinese']"
      ]
     },
     "execution_count": 5,
     "metadata": {},
     "output_type": "execute_result"
    }
   ],
   "source": [
    "langdirs"
   ]
  },
  {
   "cell_type": "code",
   "execution_count": 6,
   "id": "49c2592b",
   "metadata": {},
   "outputs": [],
   "source": [
    "def make_new_sample():\n",
    "    return {\n",
    "        'tokens': [],\n",
    "        'token_labels': [],\n",
    "        'lang': langdir,\n",
    "        'id': None,\n",
    "        'domain': None\n",
    "    }"
   ]
  },
  {
   "cell_type": "code",
   "execution_count": 7,
   "id": "a0c2e531",
   "metadata": {},
   "outputs": [],
   "source": [
    "import json\n",
    "import re\n",
    "\n",
    "ID_DOMAIN = re.compile(r'# id (\\S+)\\sdomain=(\\w+)')\n",
    "# TOKEN_LABEL = re.compile(r'(\\S+) _ _ (\\S+)')\n",
    "CONLL_PATTERN = '_ _'\n",
    "\n",
    "TYPE = 'train'\n",
    "\n",
    "wrong_lines = []\n",
    "dataset = []\n",
    "\n",
    "for langdir in langdirs:\n",
    "    fname = [f for f in os.listdir(path_to_data / langdir) if TYPE in f][0]\n",
    "    with (path_to_data / langdir / fname).open() as f:\n",
    "        lines = f.readlines()\n",
    "\n",
    "    new_sample = make_new_sample()\n",
    "    for line in lines:\n",
    "        line = line.strip()\n",
    "        if line:\n",
    "            match = ID_DOMAIN.match(line)\n",
    "            if match:\n",
    "                new_sample['id'] = match.group(1)\n",
    "                new_sample['domain'] = match.group(2)\n",
    "            elif CONLL_PATTERN in line:\n",
    "                splitted = line.split(CONLL_PATTERN)\n",
    "                new_sample['tokens'].append(splitted[0].strip())\n",
    "                new_sample['token_labels'].append(splitted[1].strip())        \n",
    "            else:\n",
    "                wrong_lines.append(line)\n",
    "        else:\n",
    "            dataset.append(new_sample)\n",
    "            new_sample = make_new_sample()        \n",
    "            \n",
    "assert not wrong_lines\n",
    "\n",
    "with open(f'../data/{TYPE}_dataset.json', 'w') as f:\n",
    "    json.dump(dataset, f, ensure_ascii=False, indent=4)"
   ]
  },
  {
   "cell_type": "markdown",
   "id": "f928dda9-080e-4be7-b0fd-fae0fedcf316",
   "metadata": {},
   "source": [
    "Аналогично поступим для dev"
   ]
  },
  {
   "cell_type": "code",
   "execution_count": 8,
   "id": "b01252b2-f726-4134-89f1-955760c92ce0",
   "metadata": {},
   "outputs": [],
   "source": [
    "import json\n",
    "import re\n",
    "\n",
    "ID_DOMAIN = re.compile(r'# id (\\S+)\\sdomain=(\\w+)')\n",
    "# TOKEN_LABEL = re.compile(r'(\\S+) _ _ (\\S+)')\n",
    "CONLL_PATTERN = '_ _'\n",
    "\n",
    "TYPE = 'dev'\n",
    "\n",
    "wrong_lines = []\n",
    "dataset = []\n",
    "\n",
    "for langdir in langdirs:\n",
    "    fname = [f for f in os.listdir(path_to_data / langdir) if TYPE in f][0]\n",
    "    with (path_to_data / langdir / fname).open() as f:\n",
    "        lines = f.readlines()\n",
    "\n",
    "    new_sample = make_new_sample()\n",
    "    for line in lines:\n",
    "        line = line.strip()\n",
    "        if line:\n",
    "            match = ID_DOMAIN.match(line)\n",
    "            if match:\n",
    "                new_sample['id'] = match.group(1)\n",
    "                new_sample['domain'] = match.group(2)\n",
    "            elif CONLL_PATTERN in line:\n",
    "                splitted = line.split(CONLL_PATTERN)\n",
    "                new_sample['tokens'].append(splitted[0].strip())\n",
    "                new_sample['token_labels'].append(splitted[1].strip())        \n",
    "            else:\n",
    "                wrong_lines.append(line)\n",
    "        else:\n",
    "            dataset.append(new_sample)\n",
    "            new_sample = make_new_sample()        \n",
    "            \n",
    "assert not wrong_lines\n",
    "\n",
    "with open(f'../data/{TYPE}_dataset.json', 'w') as f:\n",
    "    json.dump(dataset, f, ensure_ascii=False, indent=4)"
   ]
  },
  {
   "cell_type": "code",
   "execution_count": null,
   "id": "782a600f-8205-4404-9116-8f43b6bc15ad",
   "metadata": {},
   "outputs": [],
   "source": []
  }
 ],
 "metadata": {
  "kernelspec": {
   "display_name": "Python 3",
   "language": "python",
   "name": "python3"
  },
  "language_info": {
   "codemirror_mode": {
    "name": "ipython",
    "version": 3
   },
   "file_extension": ".py",
   "mimetype": "text/x-python",
   "name": "python",
   "nbconvert_exporter": "python",
   "pygments_lexer": "ipython3",
   "version": "3.8.8"
  }
 },
 "nbformat": 4,
 "nbformat_minor": 5
}
