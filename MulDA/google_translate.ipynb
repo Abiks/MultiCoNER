{
 "cells": [
  {
   "cell_type": "code",
   "execution_count": 1,
   "id": "30a3c11d",
   "metadata": {
    "ExecuteTime": {
     "end_time": "2021-12-28T21:42:58.413481Z",
     "start_time": "2021-12-28T21:42:58.395890Z"
    }
   },
   "outputs": [],
   "source": [
    "project_id = 'complete-fiber-336506'"
   ]
  },
  {
   "cell_type": "code",
   "execution_count": 3,
   "id": "86d68280",
   "metadata": {
    "ExecuteTime": {
     "end_time": "2021-12-28T21:44:01.593202Z",
     "start_time": "2021-12-28T21:44:01.578150Z"
    }
   },
   "outputs": [],
   "source": [
    "from os import environ\n",
    "from google.cloud import translate"
   ]
  },
  {
   "cell_type": "code",
   "execution_count": 5,
   "id": "71d10732",
   "metadata": {
    "ExecuteTime": {
     "end_time": "2021-12-28T22:01:15.325403Z",
     "start_time": "2021-12-28T22:01:15.317162Z"
    }
   },
   "outputs": [],
   "source": [
    "environ[\"GOOGLE_APPLICATION_CREDENTIALS\"]=\"psath-to-creds/complete-fiber-336506-2376ac345a8a.json\""
   ]
  },
  {
   "cell_type": "code",
   "execution_count": 6,
   "id": "6529a17c",
   "metadata": {
    "ExecuteTime": {
     "end_time": "2021-12-28T22:01:18.417149Z",
     "start_time": "2021-12-28T22:01:18.067456Z"
    }
   },
   "outputs": [
    {
     "name": "stdout",
     "output_type": "stream",
     "text": [
      "---------------------- Languages: 111 ----------------------\n",
      "af\tAfrikaans\n",
      "sq\tAlbanian\n",
      "am\tAmharic\n",
      "ar\tArabic\n",
      "hy\tArmenian\n",
      "az\tAzerbaijani\n",
      "eu\tBasque\n",
      "be\tBelarusian\n",
      "bn\tBengali\n",
      "bs\tBosnian\n",
      "bg\tBulgarian\n",
      "ca\tCatalan\n",
      "ceb\tCebuano\n",
      "ny\tChichewa\n",
      "zh-CN\tChinese (Simplified)\n",
      "zh\tChinese (Simplified)\n",
      "zh-TW\tChinese (Traditional)\n",
      "co\tCorsican\n",
      "hr\tCroatian\n",
      "cs\tCzech\n",
      "da\tDanish\n",
      "nl\tDutch\n",
      "en\tEnglish\n",
      "eo\tEsperanto\n",
      "et\tEstonian\n",
      "tl\tFilipino\n",
      "fi\tFinnish\n",
      "fr\tFrench\n",
      "fy\tFrisian\n",
      "gl\tGalician\n",
      "ka\tGeorgian\n",
      "de\tGerman\n",
      "el\tGreek\n",
      "gu\tGujarati\n",
      "ht\tHaitian Creole\n",
      "ha\tHausa\n",
      "haw\tHawaiian\n",
      "iw\tHebrew\n",
      "he\tHebrew\n",
      "hi\tHindi\n",
      "hmn\tHmong\n",
      "hu\tHungarian\n",
      "is\tIcelandic\n",
      "ig\tIgbo\n",
      "id\tIndonesian\n",
      "ga\tIrish\n",
      "it\tItalian\n",
      "ja\tJapanese\n",
      "jw\tJavanese\n",
      "kn\tKannada\n",
      "kk\tKazakh\n",
      "km\tKhmer\n",
      "rw\tKinyarwanda\n",
      "ko\tKorean\n",
      "ku\tKurdish (Kurmanji)\n",
      "ky\tKyrgyz\n",
      "lo\tLao\n",
      "la\tLatin\n",
      "lv\tLatvian\n",
      "lt\tLithuanian\n",
      "lb\tLuxembourgish\n",
      "mk\tMacedonian\n",
      "mg\tMalagasy\n",
      "ms\tMalay\n",
      "ml\tMalayalam\n",
      "mt\tMaltese\n",
      "mi\tMaori\n",
      "mr\tMarathi\n",
      "mn\tMongolian\n",
      "my\tMyanmar (Burmese)\n",
      "ne\tNepali\n",
      "no\tNorwegian\n",
      "or\tOdia (Oriya)\n",
      "ps\tPashto\n",
      "fa\tPersian\n",
      "pl\tPolish\n",
      "pt\tPortuguese\n",
      "pa\tPunjabi\n",
      "ro\tRomanian\n",
      "ru\tRussian\n",
      "sm\tSamoan\n",
      "gd\tScots Gaelic\n",
      "sr\tSerbian\n",
      "st\tSesotho\n",
      "sn\tShona\n",
      "sd\tSindhi\n",
      "si\tSinhala\n",
      "sk\tSlovak\n",
      "sl\tSlovenian\n",
      "so\tSomali\n",
      "es\tSpanish\n",
      "su\tSundanese\n",
      "sw\tSwahili\n",
      "sv\tSwedish\n",
      "tg\tTajik\n",
      "ta\tTamil\n",
      "tt\tTatar\n",
      "te\tTelugu\n",
      "th\tThai\n",
      "tr\tTurkish\n",
      "tk\tTurkmen\n",
      "uk\tUkrainian\n",
      "ur\tUrdu\n",
      "ug\tUyghur\n",
      "uz\tUzbek\n",
      "vi\tVietnamese\n",
      "cy\tWelsh\n",
      "xh\tXhosa\n",
      "yi\tYiddish\n",
      "yo\tYoruba\n",
      "zu\tZulu\n"
     ]
    }
   ],
   "source": [
    "parent = f\"projects/{project_id}\"\n",
    "client = translate.TranslationServiceClient()\n",
    "\n",
    "response = client.get_supported_languages(parent=parent, display_language_code=\"en\")\n",
    "languages = response.languages\n",
    "\n",
    "print(f\" Languages: {len(languages)} \".center(60, \"-\"))\n",
    "for language in languages:\n",
    "    print(f\"{language.language_code}\\t{language.display_name}\")"
   ]
  },
  {
   "cell_type": "code",
   "execution_count": 7,
   "id": "6a344733",
   "metadata": {
    "ExecuteTime": {
     "end_time": "2021-12-28T22:23:20.618259Z",
     "start_time": "2021-12-28T22:23:20.278047Z"
    }
   },
   "outputs": [],
   "source": [
    "sample_text = \"Hello world!\"\n",
    "target_language_code = \"ru\"\n",
    "\n",
    "response = client.translate_text(\n",
    "    contents=[sample_text],\n",
    "    target_language_code=target_language_code,\n",
    "    parent=parent,\n",
    ")"
   ]
  },
  {
   "cell_type": "code",
   "execution_count": 16,
   "id": "724faee6",
   "metadata": {
    "ExecuteTime": {
     "end_time": "2021-12-28T22:24:51.131525Z",
     "start_time": "2021-12-28T22:24:51.121791Z"
    }
   },
   "outputs": [],
   "source": [
    "a = ''\n",
    "for translation in response.translations:\n",
    "    a = translation.translated_text"
   ]
  },
  {
   "cell_type": "code",
   "execution_count": 17,
   "id": "6fb751ea",
   "metadata": {
    "ExecuteTime": {
     "end_time": "2021-12-28T22:24:55.009958Z",
     "start_time": "2021-12-28T22:24:54.992168Z"
    }
   },
   "outputs": [
    {
     "data": {
      "text/plain": [
       "'Привет мир!'"
      ]
     },
     "execution_count": 17,
     "metadata": {},
     "output_type": "execute_result"
    }
   ],
   "source": [
    "a"
   ]
  },
  {
   "cell_type": "code",
   "execution_count": null,
   "id": "e5a0d4bb",
   "metadata": {},
   "outputs": [],
   "source": []
  }
 ],
 "metadata": {
  "kernelspec": {
   "display_name": "Python 3",
   "language": "python",
   "name": "python3"
  },
  "language_info": {
   "codemirror_mode": {
    "name": "ipython",
    "version": 3
   },
   "file_extension": ".py",
   "mimetype": "text/x-python",
   "name": "python",
   "nbconvert_exporter": "python",
   "pygments_lexer": "ipython3",
   "version": "3.8.8"
  },
  "toc": {
   "base_numbering": 1,
   "nav_menu": {},
   "number_sections": true,
   "sideBar": true,
   "skip_h1_title": false,
   "title_cell": "Table of Contents",
   "title_sidebar": "Contents",
   "toc_cell": false,
   "toc_position": {},
   "toc_section_display": true,
   "toc_window_display": false
  }
 },
 "nbformat": 4,
 "nbformat_minor": 5
}
