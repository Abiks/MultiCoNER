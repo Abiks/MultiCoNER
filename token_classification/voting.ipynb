{
 "cells": [
  {
   "cell_type": "code",
   "execution_count": 67,
   "id": "acb14b2f",
   "metadata": {
    "cellId": "u5oj0zvyjazng6uywqfqn"
   },
   "outputs": [],
   "source": [
    "import numpy as np"
   ]
  },
  {
   "cell_type": "code",
   "execution_count": 68,
   "id": "cb57cb65",
   "metadata": {
    "cellId": "5hxgkobfxoddcgy95yv9mo"
   },
   "outputs": [],
   "source": [
    "from scipy.stats import mode"
   ]
  },
  {
   "cell_type": "code",
   "execution_count": 69,
   "id": "988106db",
   "metadata": {
    "cellId": "igx00x3vv4ep5fmb47ds9c"
   },
   "outputs": [],
   "source": [
    "GLOBAL_LABEL2ID = {'O': 0,\n",
    "                   'B-CORP': 1,\n",
    "                   'B-CW': 2,\n",
    "                   'B-GRP': 3,\n",
    "                   'B-LOC': 4,\n",
    "                   'B-PER': 5,\n",
    "                   'B-PROD': 6,\n",
    "                   'I-CORP': 7,\n",
    "                   'I-CW': 8,\n",
    "                   'I-GRP': 9,\n",
    "                   'I-LOC': 10,\n",
    "                   'I-PER': 11,\n",
    "                   'I-PROD': 12}\n",
    "GLOBAL_ID2LABEL = {idx: label for label, idx in GLOBAL_LABEL2ID.items()}"
   ]
  },
  {
   "cell_type": "code",
   "execution_count": 76,
   "id": "a51adcba",
   "metadata": {
    "cellId": "ehytdg1vcprbdcype3orqo"
   },
   "outputs": [],
   "source": [
    "def hard_voting(predictions):\n",
    "    n = len(predictions)\n",
    "    labels = []\n",
    "    for i in range(len(predictions[0])):\n",
    "        sent_labels = []\n",
    "        for k in range(len(predictions[0][i])):\n",
    "            word_labels = []\n",
    "            for j in range(n):\n",
    "                word_labels.append(np.argmax(predictions[j][i][k], axis=-1))\n",
    "            # one model disagrees\n",
    "            if word_labels[0] == word_labels[1] and word_labels[1] != word_labels[2]:\n",
    "                if word_labels[0] != 0:\n",
    "                    label = GLOBAL_ID2LABEL[word_labels[0]]\n",
    "                elif word_labels[2] != 0:\n",
    "                    label = GLOBAL_ID2LABEL[word_labels[2]]\n",
    "                else:\n",
    "                    label = 'O'\n",
    "            elif word_labels[1] == word_labels[2] and word_labels[1] != word_labels[0]:\n",
    "                if word_labels[1] != 0:\n",
    "                    label = GLOBAL_ID2LABEL[word_labels[1]]\n",
    "                elif word_labels[0] != 0:\n",
    "                    label = GLOBAL_ID2LABEL[word_labels[0]]\n",
    "                else:\n",
    "                    label = 'O'\n",
    "            elif word_labels[0] == word_labels[2] and word_labels[1] != word_labels[2]:\n",
    "                if word_labels[0] != 0:\n",
    "                    label = GLOBAL_ID2LABEL[word_labels[0]]\n",
    "                elif word_labels[1] != 0:\n",
    "                    label = GLOBAL_ID2LABEL[word_labels[1]]\n",
    "                else:\n",
    "                    label = 'O'\n",
    "            # all three disagree\n",
    "            else:\n",
    "                label = GLOBAL_ID2LABEL[word_labels[1]]\n",
    "            sent_labels.append(label)\n",
    "        labels.append(sent_labels)\n",
    "    return labels"
   ]
  },
  {
   "cell_type": "code",
   "execution_count": 71,
   "id": "0b133ef2",
   "metadata": {
    "cellId": "49rq1a42svdm1vb88ko5em"
   },
   "outputs": [],
   "source": [
    "def soft_voting(predictions):\n",
    "    n = len(predictions)\n",
    "    labels = []\n",
    "    for i in range(len(predictions[0])):\n",
    "        sent_labels = []\n",
    "        for k in range(len(predictions[0][i])):\n",
    "            s = predictions[0][i][k]\n",
    "            for j in range(1, n):\n",
    "                for l in range(13):\n",
    "                    s[l] += predictions[j][i][k][l]\n",
    "            label = GLOBAL_ID2LABEL[np.argmax(s)]\n",
    "            sent_labels.append(label)\n",
    "        labels.append(sent_labels)\n",
    "    return labels"
   ]
  },
  {
   "cell_type": "code",
   "execution_count": 72,
   "id": "0f95be4e",
   "metadata": {
    "cellId": "uwl72pwsa2v6681nm4hcp"
   },
   "outputs": [],
   "source": [
    "def save_to_file(filename, preds):\n",
    "    with open(filename, 'w+') as f:\n",
    "        for pred in preds:\n",
    "            f.write('# id\\n')\n",
    "            for label in pred:\n",
    "                f.write(label + '\\n')\n",
    "            f.write('\\n')"
   ]
  },
  {
   "cell_type": "code",
   "execution_count": 73,
   "id": "3df19945",
   "metadata": {
    "cellId": "ttmjw0xeqi741nispyv8d"
   },
   "outputs": [],
   "source": [
    "import pickle"
   ]
  },
  {
   "cell_type": "code",
   "execution_count": 80,
   "id": "5a5b7e7a",
   "metadata": {
    "cellId": "6yl2y25g0espgw09nfkjz"
   },
   "outputs": [],
   "source": [
    "with open(\"prediction_rembert/model3_preds\", \"rb\") as fp:\n",
    "    a = pickle.load(fp)\n",
    "with open(\"prediction_rembert/model4_preds\", \"rb\") as fp:\n",
    "    b = pickle.load(fp)\n",
    "with open(\"prediction_rembert/model5_preds\", \"rb\") as fp:\n",
    "    c = pickle.load(fp)"
   ]
  },
  {
   "cell_type": "code",
   "execution_count": null,
   "id": "4d539825",
   "metadata": {
    "cellId": "l27r7urk6zjbopi0nbb2qr"
   },
   "outputs": [],
   "source": [
    "def hard_voting(predictions):\n",
    "    n = len(predictions)\n",
    "    labels = []\n",
    "    for i in range(len(predictions[0])):\n",
    "        sent_labels = []\n",
    "        for k in range(len(predictions[0][i])):\n",
    "            word_labels = []\n",
    "            for j in range(n):\n",
    "                word_labels.append(np.argmax(predictions[j][i][k], axis=-1))\n",
    "            label = GLOBAL_ID2LABEL[mode(word_labels).mode.tolist()[0]]\n",
    "            sent_labels.append(label)\n",
    "        labels.append(sent_labels)\n",
    "    return labels"
   ]
  },
  {
   "cell_type": "code",
   "execution_count": 62,
   "id": "0d34b464",
   "metadata": {
    "cellId": "hwkm1z6z7wrh1x1z6779db"
   },
   "outputs": [
    {
     "data": {
      "text/plain": [
       "8800"
      ]
     },
     "execution_count": 62,
     "metadata": {},
     "output_type": "execute_result"
    }
   ],
   "source": [
    "len(a)"
   ]
  },
  {
   "cell_type": "code",
   "execution_count": 63,
   "id": "491aa383",
   "metadata": {
    "cellId": "mg7o4tc3xlh9tnsaj1pdq"
   },
   "outputs": [
    {
     "data": {
      "text/plain": [
       "8800"
      ]
     },
     "execution_count": 63,
     "metadata": {},
     "output_type": "execute_result"
    }
   ],
   "source": [
    "len(b)"
   ]
  },
  {
   "cell_type": "code",
   "execution_count": 81,
   "id": "ad90d141",
   "metadata": {
    "cellId": "bm40yj4p0e6uh16vhx472b"
   },
   "outputs": [],
   "source": [
    "predictions = [a, b, c]"
   ]
  },
  {
   "cell_type": "code",
   "execution_count": 65,
   "id": "bd13b09e",
   "metadata": {
    "cellId": "z0oho84iae5lcddoehun5"
   },
   "outputs": [],
   "source": [
    "labels = soft_voting(predictions)\n",
    "save_to_file('soft.conll', labels)"
   ]
  },
  {
   "cell_type": "code",
   "execution_count": 82,
   "id": "089c3552",
   "metadata": {
    "cellId": "zeom4an3d1mtblg2e5chfi"
   },
   "outputs": [],
   "source": [
    "labels = hard_voting(predictions)\n",
    "save_to_file('hard_rembert.conll', labels)"
   ]
  },
  {
   "cell_type": "code",
   "execution_count": null,
   "id": "88fe5195",
   "metadata": {
    "cellId": "e6abtmyif4mqydh4mo0la"
   },
   "outputs": [],
   "source": []
  }
 ],
 "metadata": {
  "kernelspec": {
   "display_name": "Yandex DataSphere Kernel",
   "language": "python",
   "name": "python3"
  },
  "language_info": {
   "codemirror_mode": {
    "name": "ipython",
    "version": 3
   },
   "file_extension": ".py",
   "mimetype": "text/x-python",
   "name": "python",
   "nbconvert_exporter": "python",
   "pygments_lexer": "ipython3",
   "version": "3.7.7"
  },
  "notebookId": "7fa21ed8-c761-4e2a-a292-7d85e688de18",
  "notebookPath": "voting.ipynb"
 },
 "nbformat": 4,
 "nbformat_minor": 5
}
