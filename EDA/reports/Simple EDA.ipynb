{
 "cells": [
  {
   "cell_type": "markdown",
   "id": "seven-leather",
   "metadata": {},
   "source": [
    "# Цель ноутбука:\n",
    "\n",
    "Ответить на следующие вопросы:\n",
    "\n",
    "\n",
    "* количество типов разных сущностей\n",
    "* средняя длина сущностей разного типа\n",
    "* топ 10 сущностей каждого типа \n",
    "* есть ли вложенность / пересечения между сущностями"
   ]
  },
  {
   "cell_type": "markdown",
   "id": "removed-crowd",
   "metadata": {},
   "source": [
    "# Читаем данные"
   ]
  },
  {
   "cell_type": "code",
   "execution_count": 1,
   "id": "flexible-implementation",
   "metadata": {},
   "outputs": [
    {
     "name": "stdout",
     "output_type": "stream",
     "text": [
      "168300\n",
      "177100\n"
     ]
    }
   ],
   "source": [
    "import json\n",
    "\n",
    "with open('../data/train_dataset.json') as f:\n",
    "    data = json.load(f)\n",
    "    \n",
    "print(len(data))\n",
    "    \n",
    "with open('../data/dev_dataset.json') as f:\n",
    "    data += json.load(f)\n",
    "    \n",
    "print(len(data))"
   ]
  },
  {
   "cell_type": "code",
   "execution_count": 2,
   "id": "governing-local",
   "metadata": {},
   "outputs": [
    {
     "data": {
      "text/plain": [
       "{'tokens': ['марка', 'лыж', 'и', 'ботинок', '—', 'fischer'],\n",
       " 'token_labels': ['O', 'O', 'O', 'O', 'O', 'B-CORP'],\n",
       " 'lang': 'RU-Russian',\n",
       " 'id': 'b894d113-5781-4557-ac92-4df41c3676a0',\n",
       " 'domain': 'train',\n",
       " 'type': 'train'}"
      ]
     },
     "execution_count": 2,
     "metadata": {},
     "output_type": "execute_result"
    }
   ],
   "source": [
    "data[130000]"
   ]
  },
  {
   "cell_type": "code",
   "execution_count": 3,
   "id": "conventional-outdoors",
   "metadata": {},
   "outputs": [
    {
     "data": {
      "text/plain": [
       "{'tokens': ['71', '134аэн', '—', 'трамвайный', 'вагон', 'лм-99аэн'],\n",
       " 'token_labels': ['O', 'O', 'O', 'O', 'O', 'B-PROD'],\n",
       " 'lang': 'RU-Russian',\n",
       " 'id': 'f5fc6956-ca44-44be-8760-29497c58bb8d',\n",
       " 'domain': 'dev',\n",
       " 'type': 'dev'}"
      ]
     },
     "execution_count": 3,
     "metadata": {},
     "output_type": "execute_result"
    }
   ],
   "source": [
    "data[-2100]"
   ]
  },
  {
   "cell_type": "markdown",
   "id": "recorded-privacy",
   "metadata": {},
   "source": [
    "# Распределение типов сущностей по языкам и по train/dev"
   ]
  },
  {
   "cell_type": "code",
   "execution_count": 4,
   "id": "sporting-benchmark",
   "metadata": {},
   "outputs": [],
   "source": [
    "from collections import Counter\n",
    "\n",
    "def count_entities(sample):\n",
    "    collapsed_entities = []\n",
    "    saw_begin_before = False\n",
    "\n",
    "    for label in sample['token_labels']:\n",
    "        if label == 'O':\n",
    "            saw_begin_before = False\n",
    "        elif label[0] == 'B':\n",
    "            saw_begin_before = True\n",
    "            collapsed_entities.append(label[2:])\n",
    "        elif label[0] == 'I':\n",
    "            if saw_begin_before:\n",
    "                continue\n",
    "            else:\n",
    "                raise ValueError(\"Found I-label without B-label before\")\n",
    "    \n",
    "    c = dict(Counter(collapsed_entities))\n",
    "    c['type'] = sample['type']\n",
    "    c['lang'] = sample['lang']\n",
    "    return c"
   ]
  },
  {
   "cell_type": "code",
   "execution_count": 5,
   "id": "imperial-stream",
   "metadata": {},
   "outputs": [
    {
     "data": {
      "text/html": [
       "<div>\n",
       "<style scoped>\n",
       "    .dataframe tbody tr th:only-of-type {\n",
       "        vertical-align: middle;\n",
       "    }\n",
       "\n",
       "    .dataframe tbody tr th {\n",
       "        vertical-align: top;\n",
       "    }\n",
       "\n",
       "    .dataframe thead th {\n",
       "        text-align: right;\n",
       "    }\n",
       "</style>\n",
       "<table border=\"1\" class=\"dataframe\">\n",
       "  <thead>\n",
       "    <tr style=\"text-align: right;\">\n",
       "      <th></th>\n",
       "      <th>CORP</th>\n",
       "      <th>type</th>\n",
       "      <th>lang</th>\n",
       "      <th>GRP</th>\n",
       "      <th>PER</th>\n",
       "      <th>CW</th>\n",
       "      <th>PROD</th>\n",
       "      <th>LOC</th>\n",
       "    </tr>\n",
       "  </thead>\n",
       "  <tbody>\n",
       "    <tr>\n",
       "      <th>0</th>\n",
       "      <td>1.0</td>\n",
       "      <td>train</td>\n",
       "      <td>BN-Bangla</td>\n",
       "      <td>0.0</td>\n",
       "      <td>0.0</td>\n",
       "      <td>0.0</td>\n",
       "      <td>0.0</td>\n",
       "      <td>0.0</td>\n",
       "    </tr>\n",
       "    <tr>\n",
       "      <th>1</th>\n",
       "      <td>0.0</td>\n",
       "      <td>train</td>\n",
       "      <td>BN-Bangla</td>\n",
       "      <td>1.0</td>\n",
       "      <td>0.0</td>\n",
       "      <td>0.0</td>\n",
       "      <td>0.0</td>\n",
       "      <td>0.0</td>\n",
       "    </tr>\n",
       "    <tr>\n",
       "      <th>2</th>\n",
       "      <td>0.0</td>\n",
       "      <td>train</td>\n",
       "      <td>BN-Bangla</td>\n",
       "      <td>0.0</td>\n",
       "      <td>1.0</td>\n",
       "      <td>0.0</td>\n",
       "      <td>0.0</td>\n",
       "      <td>0.0</td>\n",
       "    </tr>\n",
       "    <tr>\n",
       "      <th>3</th>\n",
       "      <td>1.0</td>\n",
       "      <td>train</td>\n",
       "      <td>BN-Bangla</td>\n",
       "      <td>0.0</td>\n",
       "      <td>0.0</td>\n",
       "      <td>0.0</td>\n",
       "      <td>0.0</td>\n",
       "      <td>0.0</td>\n",
       "    </tr>\n",
       "    <tr>\n",
       "      <th>4</th>\n",
       "      <td>0.0</td>\n",
       "      <td>train</td>\n",
       "      <td>BN-Bangla</td>\n",
       "      <td>1.0</td>\n",
       "      <td>0.0</td>\n",
       "      <td>0.0</td>\n",
       "      <td>0.0</td>\n",
       "      <td>0.0</td>\n",
       "    </tr>\n",
       "    <tr>\n",
       "      <th>5</th>\n",
       "      <td>0.0</td>\n",
       "      <td>train</td>\n",
       "      <td>BN-Bangla</td>\n",
       "      <td>0.0</td>\n",
       "      <td>1.0</td>\n",
       "      <td>0.0</td>\n",
       "      <td>0.0</td>\n",
       "      <td>0.0</td>\n",
       "    </tr>\n",
       "    <tr>\n",
       "      <th>6</th>\n",
       "      <td>0.0</td>\n",
       "      <td>train</td>\n",
       "      <td>BN-Bangla</td>\n",
       "      <td>0.0</td>\n",
       "      <td>1.0</td>\n",
       "      <td>0.0</td>\n",
       "      <td>0.0</td>\n",
       "      <td>0.0</td>\n",
       "    </tr>\n",
       "    <tr>\n",
       "      <th>7</th>\n",
       "      <td>0.0</td>\n",
       "      <td>train</td>\n",
       "      <td>BN-Bangla</td>\n",
       "      <td>0.0</td>\n",
       "      <td>1.0</td>\n",
       "      <td>0.0</td>\n",
       "      <td>0.0</td>\n",
       "      <td>0.0</td>\n",
       "    </tr>\n",
       "    <tr>\n",
       "      <th>8</th>\n",
       "      <td>0.0</td>\n",
       "      <td>train</td>\n",
       "      <td>BN-Bangla</td>\n",
       "      <td>0.0</td>\n",
       "      <td>0.0</td>\n",
       "      <td>1.0</td>\n",
       "      <td>0.0</td>\n",
       "      <td>0.0</td>\n",
       "    </tr>\n",
       "    <tr>\n",
       "      <th>9</th>\n",
       "      <td>0.0</td>\n",
       "      <td>train</td>\n",
       "      <td>BN-Bangla</td>\n",
       "      <td>0.0</td>\n",
       "      <td>0.0</td>\n",
       "      <td>1.0</td>\n",
       "      <td>0.0</td>\n",
       "      <td>0.0</td>\n",
       "    </tr>\n",
       "  </tbody>\n",
       "</table>\n",
       "</div>"
      ],
      "text/plain": [
       "   CORP   type       lang  GRP  PER   CW  PROD  LOC\n",
       "0   1.0  train  BN-Bangla  0.0  0.0  0.0   0.0  0.0\n",
       "1   0.0  train  BN-Bangla  1.0  0.0  0.0   0.0  0.0\n",
       "2   0.0  train  BN-Bangla  0.0  1.0  0.0   0.0  0.0\n",
       "3   1.0  train  BN-Bangla  0.0  0.0  0.0   0.0  0.0\n",
       "4   0.0  train  BN-Bangla  1.0  0.0  0.0   0.0  0.0\n",
       "5   0.0  train  BN-Bangla  0.0  1.0  0.0   0.0  0.0\n",
       "6   0.0  train  BN-Bangla  0.0  1.0  0.0   0.0  0.0\n",
       "7   0.0  train  BN-Bangla  0.0  1.0  0.0   0.0  0.0\n",
       "8   0.0  train  BN-Bangla  0.0  0.0  1.0   0.0  0.0\n",
       "9   0.0  train  BN-Bangla  0.0  0.0  1.0   0.0  0.0"
      ]
     },
     "execution_count": 5,
     "metadata": {},
     "output_type": "execute_result"
    }
   ],
   "source": [
    "import pandas as pd\n",
    "entity_counts = pd.DataFrame(\n",
    "    [count_entities(sample) for sample in data]\n",
    ").fillna(0)\n",
    "\n",
    "entity_counts.head(10)"
   ]
  },
  {
   "cell_type": "code",
   "execution_count": 6,
   "id": "extended-turtle",
   "metadata": {},
   "outputs": [],
   "source": [
    "entity_names = [c for c in entity_counts.columns if c not in ['type', 'lang']]"
   ]
  },
  {
   "cell_type": "markdown",
   "id": "charged-assignment",
   "metadata": {},
   "source": [
    "Cписок сущностей:"
   ]
  },
  {
   "cell_type": "code",
   "execution_count": 7,
   "id": "terminal-spiritual",
   "metadata": {},
   "outputs": [
    {
     "data": {
      "text/plain": [
       "['CORP', 'GRP', 'PER', 'CW', 'PROD', 'LOC']"
      ]
     },
     "execution_count": 7,
     "metadata": {},
     "output_type": "execute_result"
    }
   ],
   "source": [
    "entity_names"
   ]
  },
  {
   "cell_type": "markdown",
   "id": "entertaining-revelation",
   "metadata": {},
   "source": [
    "### Ответ на вопрос про пересечение/вложенность \n",
    "\n",
    "Нет, ее нет (иначе бы мы получили более сложные названия сущностей). "
   ]
  },
  {
   "cell_type": "markdown",
   "id": "nonprofit-complex",
   "metadata": {},
   "source": [
    "Доля каждой из сущностей во всем датасете:"
   ]
  },
  {
   "cell_type": "code",
   "execution_count": 8,
   "id": "federal-japan",
   "metadata": {},
   "outputs": [
    {
     "data": {
      "text/plain": [
       "CORP    0.195528\n",
       "GRP     0.194715\n",
       "PER     0.261406\n",
       "CW      0.228052\n",
       "PROD    0.208741\n",
       "LOC     0.321637\n",
       "dtype: float64"
      ]
     },
     "execution_count": 8,
     "metadata": {},
     "output_type": "execute_result"
    }
   ],
   "source": [
    "entity_counts[entity_names].mean()"
   ]
  },
  {
   "cell_type": "markdown",
   "id": "valuable-arnold",
   "metadata": {},
   "source": [
    "В разрезе train/dev"
   ]
  },
  {
   "cell_type": "code",
   "execution_count": 9,
   "id": "steady-bermuda",
   "metadata": {},
   "outputs": [
    {
     "data": {
      "text/html": [
       "<div>\n",
       "<style scoped>\n",
       "    .dataframe tbody tr th:only-of-type {\n",
       "        vertical-align: middle;\n",
       "    }\n",
       "\n",
       "    .dataframe tbody tr th {\n",
       "        vertical-align: top;\n",
       "    }\n",
       "\n",
       "    .dataframe thead th {\n",
       "        text-align: right;\n",
       "    }\n",
       "</style>\n",
       "<table border=\"1\" class=\"dataframe\">\n",
       "  <thead>\n",
       "    <tr style=\"text-align: right;\">\n",
       "      <th></th>\n",
       "      <th>CORP</th>\n",
       "      <th>GRP</th>\n",
       "      <th>PER</th>\n",
       "      <th>CW</th>\n",
       "      <th>PROD</th>\n",
       "      <th>LOC</th>\n",
       "    </tr>\n",
       "    <tr>\n",
       "      <th>type</th>\n",
       "      <th></th>\n",
       "      <th></th>\n",
       "      <th></th>\n",
       "      <th></th>\n",
       "      <th></th>\n",
       "      <th></th>\n",
       "    </tr>\n",
       "  </thead>\n",
       "  <tbody>\n",
       "    <tr>\n",
       "      <th>dev</th>\n",
       "      <td>0.197500</td>\n",
       "      <td>0.186136</td>\n",
       "      <td>0.266136</td>\n",
       "      <td>0.228977</td>\n",
       "      <td>0.210000</td>\n",
       "      <td>0.333182</td>\n",
       "    </tr>\n",
       "    <tr>\n",
       "      <th>train</th>\n",
       "      <td>0.195425</td>\n",
       "      <td>0.195163</td>\n",
       "      <td>0.261159</td>\n",
       "      <td>0.228004</td>\n",
       "      <td>0.208675</td>\n",
       "      <td>0.321034</td>\n",
       "    </tr>\n",
       "  </tbody>\n",
       "</table>\n",
       "</div>"
      ],
      "text/plain": [
       "           CORP       GRP       PER        CW      PROD       LOC\n",
       "type                                                             \n",
       "dev    0.197500  0.186136  0.266136  0.228977  0.210000  0.333182\n",
       "train  0.195425  0.195163  0.261159  0.228004  0.208675  0.321034"
      ]
     },
     "execution_count": 9,
     "metadata": {},
     "output_type": "execute_result"
    }
   ],
   "source": [
    "entity_counts.groupby(['type'])[entity_names].mean()"
   ]
  },
  {
   "cell_type": "markdown",
   "id": "excellent-disclosure",
   "metadata": {},
   "source": [
    "Пропорции сущностей сохраняются. А если в разрезе разных языков?"
   ]
  },
  {
   "cell_type": "code",
   "execution_count": 10,
   "id": "anonymous-dubai",
   "metadata": {},
   "outputs": [
    {
     "data": {
      "text/html": [
       "<div>\n",
       "<style scoped>\n",
       "    .dataframe tbody tr th:only-of-type {\n",
       "        vertical-align: middle;\n",
       "    }\n",
       "\n",
       "    .dataframe tbody tr th {\n",
       "        vertical-align: top;\n",
       "    }\n",
       "\n",
       "    .dataframe thead th {\n",
       "        text-align: right;\n",
       "    }\n",
       "</style>\n",
       "<table border=\"1\" class=\"dataframe\">\n",
       "  <thead>\n",
       "    <tr style=\"text-align: right;\">\n",
       "      <th></th>\n",
       "      <th></th>\n",
       "      <th>CORP</th>\n",
       "      <th>GRP</th>\n",
       "      <th>PER</th>\n",
       "      <th>CW</th>\n",
       "      <th>PROD</th>\n",
       "      <th>LOC</th>\n",
       "    </tr>\n",
       "    <tr>\n",
       "      <th>lang</th>\n",
       "      <th>type</th>\n",
       "      <th></th>\n",
       "      <th></th>\n",
       "      <th></th>\n",
       "      <th></th>\n",
       "      <th></th>\n",
       "      <th></th>\n",
       "    </tr>\n",
       "  </thead>\n",
       "  <tbody>\n",
       "    <tr>\n",
       "      <th rowspan=\"2\" valign=\"top\">BN-Bangla</th>\n",
       "      <th>dev</th>\n",
       "      <td>0.158750</td>\n",
       "      <td>0.147500</td>\n",
       "      <td>0.180000</td>\n",
       "      <td>0.150000</td>\n",
       "      <td>0.237500</td>\n",
       "      <td>0.126250</td>\n",
       "    </tr>\n",
       "    <tr>\n",
       "      <th>train</th>\n",
       "      <td>0.169804</td>\n",
       "      <td>0.157190</td>\n",
       "      <td>0.170327</td>\n",
       "      <td>0.140980</td>\n",
       "      <td>0.208366</td>\n",
       "      <td>0.153660</td>\n",
       "    </tr>\n",
       "    <tr>\n",
       "      <th rowspan=\"2\" valign=\"top\">DE-German</th>\n",
       "      <th>dev</th>\n",
       "      <td>0.206250</td>\n",
       "      <td>0.200000</td>\n",
       "      <td>0.370000</td>\n",
       "      <td>0.236250</td>\n",
       "      <td>0.166250</td>\n",
       "      <td>0.370000</td>\n",
       "    </tr>\n",
       "    <tr>\n",
       "      <th>train</th>\n",
       "      <td>0.201503</td>\n",
       "      <td>0.229346</td>\n",
       "      <td>0.345621</td>\n",
       "      <td>0.229216</td>\n",
       "      <td>0.193529</td>\n",
       "      <td>0.312288</td>\n",
       "    </tr>\n",
       "    <tr>\n",
       "      <th rowspan=\"2\" valign=\"top\">EN-English</th>\n",
       "      <th>dev</th>\n",
       "      <td>0.241250</td>\n",
       "      <td>0.237500</td>\n",
       "      <td>0.362500</td>\n",
       "      <td>0.220000</td>\n",
       "      <td>0.183750</td>\n",
       "      <td>0.292500</td>\n",
       "    </tr>\n",
       "    <tr>\n",
       "      <th>train</th>\n",
       "      <td>0.203333</td>\n",
       "      <td>0.233399</td>\n",
       "      <td>0.352745</td>\n",
       "      <td>0.245229</td>\n",
       "      <td>0.191046</td>\n",
       "      <td>0.313660</td>\n",
       "    </tr>\n",
       "    <tr>\n",
       "      <th rowspan=\"2\" valign=\"top\">ES-Spanish</th>\n",
       "      <th>dev</th>\n",
       "      <td>0.176250</td>\n",
       "      <td>0.210000</td>\n",
       "      <td>0.308750</td>\n",
       "      <td>0.240000</td>\n",
       "      <td>0.192500</td>\n",
       "      <td>0.342500</td>\n",
       "    </tr>\n",
       "    <tr>\n",
       "      <th>train</th>\n",
       "      <td>0.189412</td>\n",
       "      <td>0.210850</td>\n",
       "      <td>0.307582</td>\n",
       "      <td>0.241176</td>\n",
       "      <td>0.198693</td>\n",
       "      <td>0.324706</td>\n",
       "    </tr>\n",
       "    <tr>\n",
       "      <th rowspan=\"2\" valign=\"top\">FA-Farsi</th>\n",
       "      <th>dev</th>\n",
       "      <td>0.200000</td>\n",
       "      <td>0.205000</td>\n",
       "      <td>0.251250</td>\n",
       "      <td>0.258750</td>\n",
       "      <td>0.196250</td>\n",
       "      <td>0.405000</td>\n",
       "    </tr>\n",
       "    <tr>\n",
       "      <th>train</th>\n",
       "      <td>0.195490</td>\n",
       "      <td>0.209085</td>\n",
       "      <td>0.279216</td>\n",
       "      <td>0.241438</td>\n",
       "      <td>0.193137</td>\n",
       "      <td>0.371438</td>\n",
       "    </tr>\n",
       "    <tr>\n",
       "      <th rowspan=\"2\" valign=\"top\">HI-Hindi</th>\n",
       "      <th>dev</th>\n",
       "      <td>0.167500</td>\n",
       "      <td>0.185000</td>\n",
       "      <td>0.166250</td>\n",
       "      <td>0.141250</td>\n",
       "      <td>0.211250</td>\n",
       "      <td>0.163750</td>\n",
       "    </tr>\n",
       "    <tr>\n",
       "      <th>train</th>\n",
       "      <td>0.176471</td>\n",
       "      <td>0.185817</td>\n",
       "      <td>0.158039</td>\n",
       "      <td>0.150588</td>\n",
       "      <td>0.201111</td>\n",
       "      <td>0.170850</td>\n",
       "    </tr>\n",
       "    <tr>\n",
       "      <th rowspan=\"2\" valign=\"top\">KO-Korean</th>\n",
       "      <th>dev</th>\n",
       "      <td>0.195000</td>\n",
       "      <td>0.228750</td>\n",
       "      <td>0.333750</td>\n",
       "      <td>0.245000</td>\n",
       "      <td>0.221250</td>\n",
       "      <td>0.403750</td>\n",
       "    </tr>\n",
       "    <tr>\n",
       "      <th>train</th>\n",
       "      <td>0.216536</td>\n",
       "      <td>0.230719</td>\n",
       "      <td>0.296471</td>\n",
       "      <td>0.253791</td>\n",
       "      <td>0.201438</td>\n",
       "      <td>0.411699</td>\n",
       "    </tr>\n",
       "    <tr>\n",
       "      <th rowspan=\"2\" valign=\"top\">NL-Dutch</th>\n",
       "      <th>dev</th>\n",
       "      <td>0.203750</td>\n",
       "      <td>0.203750</td>\n",
       "      <td>0.265000</td>\n",
       "      <td>0.227500</td>\n",
       "      <td>0.172500</td>\n",
       "      <td>0.373750</td>\n",
       "    </tr>\n",
       "    <tr>\n",
       "      <th>train</th>\n",
       "      <td>0.183856</td>\n",
       "      <td>0.216078</td>\n",
       "      <td>0.288105</td>\n",
       "      <td>0.218301</td>\n",
       "      <td>0.191830</td>\n",
       "      <td>0.361373</td>\n",
       "    </tr>\n",
       "    <tr>\n",
       "      <th rowspan=\"2\" valign=\"top\">RU-Russian</th>\n",
       "      <th>dev</th>\n",
       "      <td>0.198750</td>\n",
       "      <td>0.188750</td>\n",
       "      <td>0.240000</td>\n",
       "      <td>0.210000</td>\n",
       "      <td>0.188750</td>\n",
       "      <td>0.276250</td>\n",
       "    </tr>\n",
       "    <tr>\n",
       "      <th>train</th>\n",
       "      <td>0.184118</td>\n",
       "      <td>0.194510</td>\n",
       "      <td>0.240719</td>\n",
       "      <td>0.210719</td>\n",
       "      <td>0.190915</td>\n",
       "      <td>0.275752</td>\n",
       "    </tr>\n",
       "    <tr>\n",
       "      <th rowspan=\"2\" valign=\"top\">TR-Turkish</th>\n",
       "      <th>dev</th>\n",
       "      <td>0.185000</td>\n",
       "      <td>0.208750</td>\n",
       "      <td>0.288750</td>\n",
       "      <td>0.237500</td>\n",
       "      <td>0.197500</td>\n",
       "      <td>0.438750</td>\n",
       "    </tr>\n",
       "    <tr>\n",
       "      <th>train</th>\n",
       "      <td>0.180458</td>\n",
       "      <td>0.233203</td>\n",
       "      <td>0.288497</td>\n",
       "      <td>0.233595</td>\n",
       "      <td>0.208105</td>\n",
       "      <td>0.379346</td>\n",
       "    </tr>\n",
       "    <tr>\n",
       "      <th rowspan=\"2\" valign=\"top\">ZH-Chinese</th>\n",
       "      <th>dev</th>\n",
       "      <td>0.240000</td>\n",
       "      <td>0.032500</td>\n",
       "      <td>0.161250</td>\n",
       "      <td>0.352500</td>\n",
       "      <td>0.342500</td>\n",
       "      <td>0.472500</td>\n",
       "    </tr>\n",
       "    <tr>\n",
       "      <th>train</th>\n",
       "      <td>0.248693</td>\n",
       "      <td>0.046601</td>\n",
       "      <td>0.145425</td>\n",
       "      <td>0.343007</td>\n",
       "      <td>0.317255</td>\n",
       "      <td>0.456601</td>\n",
       "    </tr>\n",
       "  </tbody>\n",
       "</table>\n",
       "</div>"
      ],
      "text/plain": [
       "                      CORP       GRP       PER        CW      PROD       LOC\n",
       "lang       type                                                             \n",
       "BN-Bangla  dev    0.158750  0.147500  0.180000  0.150000  0.237500  0.126250\n",
       "           train  0.169804  0.157190  0.170327  0.140980  0.208366  0.153660\n",
       "DE-German  dev    0.206250  0.200000  0.370000  0.236250  0.166250  0.370000\n",
       "           train  0.201503  0.229346  0.345621  0.229216  0.193529  0.312288\n",
       "EN-English dev    0.241250  0.237500  0.362500  0.220000  0.183750  0.292500\n",
       "           train  0.203333  0.233399  0.352745  0.245229  0.191046  0.313660\n",
       "ES-Spanish dev    0.176250  0.210000  0.308750  0.240000  0.192500  0.342500\n",
       "           train  0.189412  0.210850  0.307582  0.241176  0.198693  0.324706\n",
       "FA-Farsi   dev    0.200000  0.205000  0.251250  0.258750  0.196250  0.405000\n",
       "           train  0.195490  0.209085  0.279216  0.241438  0.193137  0.371438\n",
       "HI-Hindi   dev    0.167500  0.185000  0.166250  0.141250  0.211250  0.163750\n",
       "           train  0.176471  0.185817  0.158039  0.150588  0.201111  0.170850\n",
       "KO-Korean  dev    0.195000  0.228750  0.333750  0.245000  0.221250  0.403750\n",
       "           train  0.216536  0.230719  0.296471  0.253791  0.201438  0.411699\n",
       "NL-Dutch   dev    0.203750  0.203750  0.265000  0.227500  0.172500  0.373750\n",
       "           train  0.183856  0.216078  0.288105  0.218301  0.191830  0.361373\n",
       "RU-Russian dev    0.198750  0.188750  0.240000  0.210000  0.188750  0.276250\n",
       "           train  0.184118  0.194510  0.240719  0.210719  0.190915  0.275752\n",
       "TR-Turkish dev    0.185000  0.208750  0.288750  0.237500  0.197500  0.438750\n",
       "           train  0.180458  0.233203  0.288497  0.233595  0.208105  0.379346\n",
       "ZH-Chinese dev    0.240000  0.032500  0.161250  0.352500  0.342500  0.472500\n",
       "           train  0.248693  0.046601  0.145425  0.343007  0.317255  0.456601"
      ]
     },
     "execution_count": 10,
     "metadata": {},
     "output_type": "execute_result"
    }
   ],
   "source": [
    "entity_counts.groupby(['lang', 'type'])[entity_names].mean()"
   ]
  },
  {
   "cell_type": "markdown",
   "id": "similar-garden",
   "metadata": {},
   "source": [
    "Здесь уже появляется более-менее заметная разница. Посмотрим на нее поближе"
   ]
  },
  {
   "cell_type": "code",
   "execution_count": 11,
   "id": "charming-specification",
   "metadata": {},
   "outputs": [
    {
     "data": {
      "text/html": [
       "<div>\n",
       "<style scoped>\n",
       "    .dataframe tbody tr th:only-of-type {\n",
       "        vertical-align: middle;\n",
       "    }\n",
       "\n",
       "    .dataframe tbody tr th {\n",
       "        vertical-align: top;\n",
       "    }\n",
       "\n",
       "    .dataframe thead th {\n",
       "        text-align: right;\n",
       "    }\n",
       "</style>\n",
       "<table border=\"1\" class=\"dataframe\">\n",
       "  <thead>\n",
       "    <tr style=\"text-align: right;\">\n",
       "      <th></th>\n",
       "      <th>CORP</th>\n",
       "      <th>GRP</th>\n",
       "      <th>PER</th>\n",
       "      <th>CW</th>\n",
       "      <th>PROD</th>\n",
       "      <th>LOC</th>\n",
       "    </tr>\n",
       "    <tr>\n",
       "      <th>lang</th>\n",
       "      <th></th>\n",
       "      <th></th>\n",
       "      <th></th>\n",
       "      <th></th>\n",
       "      <th></th>\n",
       "      <th></th>\n",
       "    </tr>\n",
       "  </thead>\n",
       "  <tbody>\n",
       "    <tr>\n",
       "      <th>BN-Bangla</th>\n",
       "      <td>0.011054</td>\n",
       "      <td>0.009690</td>\n",
       "      <td>0.009673</td>\n",
       "      <td>0.009020</td>\n",
       "      <td>0.029134</td>\n",
       "      <td>0.027410</td>\n",
       "    </tr>\n",
       "    <tr>\n",
       "      <th>DE-German</th>\n",
       "      <td>0.004747</td>\n",
       "      <td>0.029346</td>\n",
       "      <td>0.024379</td>\n",
       "      <td>0.007034</td>\n",
       "      <td>0.027279</td>\n",
       "      <td>0.057712</td>\n",
       "    </tr>\n",
       "    <tr>\n",
       "      <th>EN-English</th>\n",
       "      <td>0.037917</td>\n",
       "      <td>0.004101</td>\n",
       "      <td>0.009755</td>\n",
       "      <td>0.025229</td>\n",
       "      <td>0.007296</td>\n",
       "      <td>0.021160</td>\n",
       "    </tr>\n",
       "    <tr>\n",
       "      <th>ES-Spanish</th>\n",
       "      <td>0.013162</td>\n",
       "      <td>0.000850</td>\n",
       "      <td>0.001168</td>\n",
       "      <td>0.001176</td>\n",
       "      <td>0.006193</td>\n",
       "      <td>0.017794</td>\n",
       "    </tr>\n",
       "    <tr>\n",
       "      <th>FA-Farsi</th>\n",
       "      <td>0.004510</td>\n",
       "      <td>0.004085</td>\n",
       "      <td>0.027966</td>\n",
       "      <td>0.017312</td>\n",
       "      <td>0.003113</td>\n",
       "      <td>0.033562</td>\n",
       "    </tr>\n",
       "    <tr>\n",
       "      <th>HI-Hindi</th>\n",
       "      <td>0.008971</td>\n",
       "      <td>0.000817</td>\n",
       "      <td>0.008211</td>\n",
       "      <td>0.009338</td>\n",
       "      <td>0.010139</td>\n",
       "      <td>0.007100</td>\n",
       "    </tr>\n",
       "    <tr>\n",
       "      <th>KO-Korean</th>\n",
       "      <td>0.021536</td>\n",
       "      <td>0.001969</td>\n",
       "      <td>0.037279</td>\n",
       "      <td>0.008791</td>\n",
       "      <td>0.019812</td>\n",
       "      <td>0.007949</td>\n",
       "    </tr>\n",
       "    <tr>\n",
       "      <th>NL-Dutch</th>\n",
       "      <td>0.019894</td>\n",
       "      <td>0.012328</td>\n",
       "      <td>0.023105</td>\n",
       "      <td>0.009199</td>\n",
       "      <td>0.019330</td>\n",
       "      <td>0.012377</td>\n",
       "    </tr>\n",
       "    <tr>\n",
       "      <th>RU-Russian</th>\n",
       "      <td>0.014632</td>\n",
       "      <td>0.005760</td>\n",
       "      <td>0.000719</td>\n",
       "      <td>0.000719</td>\n",
       "      <td>0.002165</td>\n",
       "      <td>0.000498</td>\n",
       "    </tr>\n",
       "    <tr>\n",
       "      <th>TR-Turkish</th>\n",
       "      <td>0.004542</td>\n",
       "      <td>0.024453</td>\n",
       "      <td>0.000253</td>\n",
       "      <td>0.003905</td>\n",
       "      <td>0.010605</td>\n",
       "      <td>0.059404</td>\n",
       "    </tr>\n",
       "    <tr>\n",
       "      <th>ZH-Chinese</th>\n",
       "      <td>0.008693</td>\n",
       "      <td>0.014101</td>\n",
       "      <td>0.015825</td>\n",
       "      <td>0.009493</td>\n",
       "      <td>0.025245</td>\n",
       "      <td>0.015899</td>\n",
       "    </tr>\n",
       "  </tbody>\n",
       "</table>\n",
       "</div>"
      ],
      "text/plain": [
       "                CORP       GRP       PER        CW      PROD       LOC\n",
       "lang                                                                  \n",
       "BN-Bangla   0.011054  0.009690  0.009673  0.009020  0.029134  0.027410\n",
       "DE-German   0.004747  0.029346  0.024379  0.007034  0.027279  0.057712\n",
       "EN-English  0.037917  0.004101  0.009755  0.025229  0.007296  0.021160\n",
       "ES-Spanish  0.013162  0.000850  0.001168  0.001176  0.006193  0.017794\n",
       "FA-Farsi    0.004510  0.004085  0.027966  0.017312  0.003113  0.033562\n",
       "HI-Hindi    0.008971  0.000817  0.008211  0.009338  0.010139  0.007100\n",
       "KO-Korean   0.021536  0.001969  0.037279  0.008791  0.019812  0.007949\n",
       "NL-Dutch    0.019894  0.012328  0.023105  0.009199  0.019330  0.012377\n",
       "RU-Russian  0.014632  0.005760  0.000719  0.000719  0.002165  0.000498\n",
       "TR-Turkish  0.004542  0.024453  0.000253  0.003905  0.010605  0.059404\n",
       "ZH-Chinese  0.008693  0.014101  0.015825  0.009493  0.025245  0.015899"
      ]
     },
     "execution_count": 11,
     "metadata": {},
     "output_type": "execute_result"
    }
   ],
   "source": [
    "langmeans = entity_counts.groupby(['lang', 'type'])[entity_names].mean().reset_index(level=1)\n",
    "langmeans_diffs = (langmeans.loc[langmeans['type'] == 'train', entity_names] - langmeans.loc[langmeans['type'] == 'dev', entity_names]).abs()\n",
    "langmeans_diffs"
   ]
  },
  {
   "cell_type": "markdown",
   "id": "systematic-comment",
   "metadata": {},
   "source": [
    "Разница почти вплоть до 0.06. Это не очень мало, но вряд ли она нам как-то заметно испортить жизнь. Просто нужно будет учитывать этот возможный сдвиг. "
   ]
  },
  {
   "cell_type": "code",
   "execution_count": 12,
   "id": "opposite-folks",
   "metadata": {},
   "outputs": [
    {
     "data": {
      "text/plain": [
       "CORP    0.037917\n",
       "GRP     0.029346\n",
       "PER     0.037279\n",
       "CW      0.025229\n",
       "PROD    0.029134\n",
       "LOC     0.059404\n",
       "dtype: float64"
      ]
     },
     "execution_count": 12,
     "metadata": {},
     "output_type": "execute_result"
    }
   ],
   "source": [
    "langmeans_diffs.max()"
   ]
  },
  {
   "cell_type": "markdown",
   "id": "understood-circumstances",
   "metadata": {},
   "source": [
    "Но тут был подсчет именно числа сущностей. Если в каком-то тексте было несколько сущностей одного вида, то они все считались. \n",
    "\n",
    "Попробуем теперь то же самое, но теперь будем считать тексты"
   ]
  },
  {
   "cell_type": "code",
   "execution_count": 13,
   "id": "designing-compound",
   "metadata": {},
   "outputs": [],
   "source": [
    "entity_counts[entity_names] = (entity_counts[entity_names] > 0).astype(int)"
   ]
  },
  {
   "cell_type": "code",
   "execution_count": 14,
   "id": "comprehensive-broadcast",
   "metadata": {},
   "outputs": [
    {
     "data": {
      "text/html": [
       "<div>\n",
       "<style scoped>\n",
       "    .dataframe tbody tr th:only-of-type {\n",
       "        vertical-align: middle;\n",
       "    }\n",
       "\n",
       "    .dataframe tbody tr th {\n",
       "        vertical-align: top;\n",
       "    }\n",
       "\n",
       "    .dataframe thead th {\n",
       "        text-align: right;\n",
       "    }\n",
       "</style>\n",
       "<table border=\"1\" class=\"dataframe\">\n",
       "  <thead>\n",
       "    <tr style=\"text-align: right;\">\n",
       "      <th></th>\n",
       "      <th>CORP</th>\n",
       "      <th>GRP</th>\n",
       "      <th>PER</th>\n",
       "      <th>CW</th>\n",
       "      <th>PROD</th>\n",
       "      <th>LOC</th>\n",
       "    </tr>\n",
       "    <tr>\n",
       "      <th>type</th>\n",
       "      <th></th>\n",
       "      <th></th>\n",
       "      <th></th>\n",
       "      <th></th>\n",
       "      <th></th>\n",
       "      <th></th>\n",
       "    </tr>\n",
       "  </thead>\n",
       "  <tbody>\n",
       "    <tr>\n",
       "      <th>dev</th>\n",
       "      <td>0.182614</td>\n",
       "      <td>0.166023</td>\n",
       "      <td>0.215341</td>\n",
       "      <td>0.20250</td>\n",
       "      <td>0.188068</td>\n",
       "      <td>0.215682</td>\n",
       "    </tr>\n",
       "    <tr>\n",
       "      <th>train</th>\n",
       "      <td>0.180392</td>\n",
       "      <td>0.173987</td>\n",
       "      <td>0.212299</td>\n",
       "      <td>0.20082</td>\n",
       "      <td>0.184302</td>\n",
       "      <td>0.213553</td>\n",
       "    </tr>\n",
       "  </tbody>\n",
       "</table>\n",
       "</div>"
      ],
      "text/plain": [
       "           CORP       GRP       PER       CW      PROD       LOC\n",
       "type                                                            \n",
       "dev    0.182614  0.166023  0.215341  0.20250  0.188068  0.215682\n",
       "train  0.180392  0.173987  0.212299  0.20082  0.184302  0.213553"
      ]
     },
     "execution_count": 14,
     "metadata": {},
     "output_type": "execute_result"
    }
   ],
   "source": [
    "entity_counts.groupby(['type']).mean()"
   ]
  },
  {
   "cell_type": "markdown",
   "id": "considered-silence",
   "metadata": {},
   "source": [
    "Тут все почти без изменений. Сразу посмотрим на новые максимумы разностей средних."
   ]
  },
  {
   "cell_type": "code",
   "execution_count": 15,
   "id": "foreign-doubt",
   "metadata": {},
   "outputs": [
    {
     "data": {
      "text/plain": [
       "CORP    0.033113\n",
       "GRP     0.027557\n",
       "PER     0.024485\n",
       "CW      0.024747\n",
       "PROD    0.029134\n",
       "LOC     0.033440\n",
       "dtype: float64"
      ]
     },
     "execution_count": 15,
     "metadata": {},
     "output_type": "execute_result"
    }
   ],
   "source": [
    "langmeans = entity_counts.groupby(['lang', 'type'])[entity_names].mean().reset_index(level=1)\n",
    "langmeans_diffs = (langmeans.loc[langmeans['type'] == 'train', entity_names] - langmeans.loc[langmeans['type'] == 'dev', entity_names]).abs()\n",
    "langmeans_diffs.max()"
   ]
  },
  {
   "cell_type": "markdown",
   "id": "oriental-denial",
   "metadata": {},
   "source": [
    "В целом, если смотреть на тексты, то разница между train и dev становится менее заметной. Это хорошо, поможет при разбиении. "
   ]
  },
  {
   "cell_type": "code",
   "execution_count": 16,
   "id": "47c809b7-bfdf-4373-92c1-0ee22c38b0c8",
   "metadata": {},
   "outputs": [],
   "source": [
    "langmeans_diffs.to_csv('../data/processed_data/langmeans_diffs.csv')  # это нужно для ноутбука \"Train-val split\""
   ]
  },
  {
   "cell_type": "markdown",
   "id": "color-chambers",
   "metadata": {},
   "source": [
    "# Посмотрим теперь на сами сущности"
   ]
  },
  {
   "cell_type": "code",
   "execution_count": 17,
   "id": "separate-clerk",
   "metadata": {},
   "outputs": [],
   "source": [
    "def extract_entities(sample):\n",
    "    extracted_entities = []\n",
    "\n",
    "    buffer = []\n",
    "    for token, label in zip(sample['tokens'], sample['token_labels']):\n",
    "        if label == 'O':\n",
    "            if buffer:\n",
    "                extracted_entities.append({\n",
    "                    'entity': buffer[0][1].split('-')[1],\n",
    "                    'text': ' '.join([b[0] for b in buffer]),\n",
    "                    'type': sample['type'],\n",
    "                    'lang': sample['lang']\n",
    "                })\n",
    "                buffer = []\n",
    "            \n",
    "        elif label[0] == 'B':\n",
    "            if buffer:\n",
    "                extracted_entities.append({\n",
    "                    'entity': buffer[0][1].split('-')[1],\n",
    "                    'text': ' '.join([b[0] for b in buffer]),\n",
    "                    'type': sample['type'],\n",
    "                    'lang': sample['lang']\n",
    "                })\n",
    "                buffer = []\n",
    "            \n",
    "            buffer.append((token, label))\n",
    "        elif label[0] == 'I':\n",
    "            buffer.append((token, label))\n",
    "            \n",
    "    return extracted_entities"
   ]
  },
  {
   "cell_type": "code",
   "execution_count": 18,
   "id": "crude-there",
   "metadata": {},
   "outputs": [],
   "source": [
    "entities = []\n",
    "\n",
    "for sample in data:\n",
    "    entities.extend(extract_entities(sample))"
   ]
  },
  {
   "cell_type": "code",
   "execution_count": 19,
   "id": "opposed-swedish",
   "metadata": {},
   "outputs": [
    {
     "data": {
      "text/plain": [
       "[{'entity': 'GRP',\n",
       "  'text': 'হার্ভার্ড বিশ্ববিদ্যালয়',\n",
       "  'type': 'train',\n",
       "  'lang': 'BN-Bangla'},\n",
       " {'entity': 'PER',\n",
       "  'text': 'মার্কো মারুলি',\n",
       "  'type': 'train',\n",
       "  'lang': 'BN-Bangla'},\n",
       " {'entity': 'CORP', 'text': 'এমজি মোটর', 'type': 'train', 'lang': 'BN-Bangla'},\n",
       " {'entity': 'GRP',\n",
       "  'text': 'উদ্ভিদ উদ্যান',\n",
       "  'type': 'train',\n",
       "  'lang': 'BN-Bangla'}]"
      ]
     },
     "execution_count": 19,
     "metadata": {},
     "output_type": "execute_result"
    }
   ],
   "source": [
    "entities[:4]"
   ]
  },
  {
   "cell_type": "code",
   "execution_count": 20,
   "id": "banner-integration",
   "metadata": {},
   "outputs": [],
   "source": [
    "c = Counter(['  |  '.join([e['text'],e['entity']]) for e in entities])"
   ]
  },
  {
   "cell_type": "code",
   "execution_count": 21,
   "id": "exact-woman",
   "metadata": {},
   "outputs": [
    {
     "data": {
      "text/plain": [
       "[('rotten tomatoes  |  CORP', 589),\n",
       " ('ایران  |  LOC', 527),\n",
       " ('united states census bureau  |  GRP', 453),\n",
       " ('köy  |  LOC', 372),\n",
       " ('national register of historic places  |  GRP', 307),\n",
       " ('대한민국  |  LOC', 276),\n",
       " ('ऐतिहासिक स्थलों का राष्ट्रीय पंजीकरण  |  GRP', 237),\n",
       " ('dvd  |  PROD', 231),\n",
       " ('بخش مرکزی  |  LOC', 227),\n",
       " ('미국  |  LOC', 221)]"
      ]
     },
     "execution_count": 21,
     "metadata": {},
     "output_type": "execute_result"
    }
   ],
   "source": [
    "c.most_common(10)"
   ]
  },
  {
   "cell_type": "code",
   "execution_count": 22,
   "id": "specialized-stress",
   "metadata": {},
   "outputs": [],
   "source": [
    "import numpy as np\n",
    "from matplotlib import pyplot as plt\n",
    "%matplotlib inline"
   ]
  },
  {
   "cell_type": "markdown",
   "id": "structural-letter",
   "metadata": {},
   "source": [
    "Но подавляющее большинство сущностей встречается только один раз:"
   ]
  },
  {
   "cell_type": "code",
   "execution_count": 23,
   "id": "muslim-alexandria",
   "metadata": {},
   "outputs": [
    {
     "data": {
      "text/plain": [
       "1     113794\n",
       "2      15537\n",
       "3       5474\n",
       "4       2654\n",
       "5       1505\n",
       "6        983\n",
       "7        671\n",
       "8        488\n",
       "9        369\n",
       "10       304\n",
       "11       216\n",
       "12       180\n",
       "13       178\n",
       "15       115\n",
       "14       114\n",
       "16       107\n",
       "18        75\n",
       "17        65\n",
       "19        62\n",
       "20        54\n",
       "dtype: int64"
      ]
     },
     "execution_count": 23,
     "metadata": {},
     "output_type": "execute_result"
    }
   ],
   "source": [
    "pd.value_counts(list(c.values()))[:20]"
   ]
  },
  {
   "cell_type": "markdown",
   "id": "realistic-antigua",
   "metadata": {},
   "source": [
    "Теперь по разным типам. Топ-10 типов сущностей каждого вида:"
   ]
  },
  {
   "cell_type": "code",
   "execution_count": 24,
   "id": "compatible-plain",
   "metadata": {},
   "outputs": [
    {
     "name": "stdout",
     "output_type": "stream",
     "text": [
      "CORP \n",
      "\n",
      "589\t\trotten tomatoes\n",
      "193\t\tरॉटेन टमेटोज़\n",
      "182\t\tmtv\n",
      "165\t\tbbc\n",
      "163\t\tnetflix\n",
      "154\t\ttvn\n",
      "140\t\tشرکت هواپیمایی\n",
      "124\t\thbo\n",
      "123\t\t爛 番 茄\n",
      "120\t\tjtbc\n",
      "\n",
      "\n",
      "__________________________________\n",
      "GRP \n",
      "\n",
      "453\t\tunited states census bureau\n",
      "307\t\tnational register of historic places\n",
      "237\t\tऐतिहासिक स्थलों का राष्ट्रीय पंजीकरण\n",
      "109\t\tसंयुक्त राज्य जनगणना ब्यूरो\n",
      "101\t\t초등학교\n",
      "81\t\tthe new york times\n",
      "59\t\t중학교\n",
      "56\t\tthe beatles\n",
      "48\t\tcomité olímpico internacional\n",
      "47\t\tthe guardian\n",
      "\n",
      "\n",
      "__________________________________\n",
      "PER \n",
      "\n",
      "54\t\tcarlos linneo\n",
      "52\t\t반고\n",
      "35\t\ttürk\n",
      "32\t\teugène simon\n",
      "28\t\tedward meyrick\n",
      "26\t\talman\n",
      "25\t\tএডওয়ার্ড মেয়ারিক\n",
      "23\t\tস্টিফান ভন ব্রুনিং\n",
      "23\t\tmichael jackson\n",
      "22\t\twilliam shakespeare\n",
      "\n",
      "\n",
      "__________________________________\n",
      "CW \n",
      "\n",
      "159\t\tفیلم\n",
      "131\t\tmicrosoft windows\n",
      "87\t\tsingle\n",
      "68\t\tlinux\n",
      "63\t\twindows\n",
      "58\t\tios\n",
      "55\t\titunes\n",
      "55\t\t한서\n",
      "52\t\tandroid\n",
      "52\t\tsencillo\n",
      "\n",
      "\n",
      "__________________________________\n",
      "PROD \n",
      "\n",
      "231\t\tdvd\n",
      "196\t\tmotorfiets\n",
      "130\t\txbox 360\n",
      "114\t\tplaystation 4\n",
      "113\t\tplaystation 3\n",
      "105\t\tyumurta\n",
      "102\t\txbox one\n",
      "92\t\tplaystation 2\n",
      "90\t\tcd\n",
      "90\t\tکانی\n",
      "\n",
      "\n",
      "__________________________________\n",
      "LOC \n",
      "\n",
      "527\t\tایران\n",
      "372\t\tköy\n",
      "276\t\t대한민국\n",
      "227\t\tبخش مرکزی\n",
      "221\t\t미국\n",
      "204\t\tfranse\n",
      "195\t\tایالات متحده آمریکا\n",
      "178\t\t일본\n",
      "135\t\ttürkiye\n",
      "133\t\testados unidos\n",
      "\n",
      "\n",
      "__________________________________\n"
     ]
    }
   ],
   "source": [
    "for entity_name in entity_names:\n",
    "    print(entity_name, '\\n')\n",
    "    c = Counter([e['text'] for e in entities if e['entity'] == entity_name])\n",
    "    print('\\n'.join(f'{v[1]}\\t\\t{v[0]}' for v in c.most_common(10)))\n",
    "    print('\\n\\n__________________________________')"
   ]
  },
  {
   "cell_type": "markdown",
   "id": "incorporated-tokyo",
   "metadata": {},
   "source": [
    "И посмотрим еще на длины сущностей (в смысле количества токенов)\n",
    "\n",
    "\n",
    "По-простому (средняя длина)"
   ]
  },
  {
   "cell_type": "code",
   "execution_count": 25,
   "id": "written-passenger",
   "metadata": {},
   "outputs": [
    {
     "name": "stdout",
     "output_type": "stream",
     "text": [
      "CORP \t 2.134791334631958\n",
      "GRP \t 2.417424918227773\n",
      "PER \t 2.2474277206160136\n",
      "CW \t 2.566065184655828\n",
      "PROD \t 1.7099574234308474\n",
      "LOC \t 1.7034905542349557\n"
     ]
    }
   ],
   "source": [
    "for entity_name in entity_names:\n",
    "    m = np.mean([len(e['text'].split()) for e in entities if e['entity'] == entity_name])\n",
    "    print(entity_name, '\\t', m) "
   ]
  },
  {
   "cell_type": "markdown",
   "id": "direct-course",
   "metadata": {},
   "source": [
    "И аналогично предыдущего пункту выведу топ-10 самых часто встречающихся длин"
   ]
  },
  {
   "cell_type": "code",
   "execution_count": 26,
   "id": "adapted-gambling",
   "metadata": {},
   "outputs": [
    {
     "name": "stdout",
     "output_type": "stream",
     "text": [
      "CORP \n",
      "\n",
      "13982\t\t1\n",
      "11133\t\t2\n",
      "4882\t\t3\n",
      "1597\t\t4\n",
      "715\t\t5\n",
      "645\t\t6\n",
      "392\t\t7\n",
      "249\t\t8\n",
      "144\t\t9\n",
      "62\t\t10\n",
      "\n",
      "\n",
      "__________________________________\n",
      "GRP \n",
      "\n",
      "12272\t\t2\n",
      "8774\t\t1\n",
      "6741\t\t3\n",
      "3247\t\t4\n",
      "1628\t\t5\n",
      "513\t\t6\n",
      "267\t\t7\n",
      "95\t\t8\n",
      "49\t\t9\n",
      "22\t\t10\n",
      "\n",
      "\n",
      "__________________________________\n",
      "PER \n",
      "\n",
      "30818\t\t2\n",
      "6002\t\t1\n",
      "5054\t\t3\n",
      "948\t\t4\n",
      "631\t\t6\n",
      "622\t\t5\n",
      "454\t\t7\n",
      "210\t\t8\n",
      "87\t\t9\n",
      "76\t\t10\n",
      "\n",
      "\n",
      "__________________________________\n",
      "CW \n",
      "\n",
      "12413\t\t1\n",
      "11522\t\t2\n",
      "6340\t\t3\n",
      "4219\t\t4\n",
      "2245\t\t5\n",
      "1069\t\t6\n",
      "559\t\t7\n",
      "334\t\t8\n",
      "226\t\t9\n",
      "114\t\t10\n",
      "\n",
      "\n",
      "__________________________________\n",
      "PROD \n",
      "\n",
      "20524\t\t1\n",
      "10500\t\t2\n",
      "3055\t\t3\n",
      "1310\t\t4\n",
      "497\t\t5\n",
      "235\t\t6\n",
      "93\t\t7\n",
      "80\t\t9\n",
      "57\t\t8\n",
      "32\t\t10\n",
      "\n",
      "\n",
      "__________________________________\n",
      "LOC \n",
      "\n",
      "36947\t\t1\n",
      "9700\t\t2\n",
      "4279\t\t3\n",
      "2574\t\t4\n",
      "1111\t\t5\n",
      "505\t\t6\n",
      "282\t\t7\n",
      "181\t\t8\n",
      "149\t\t9\n",
      "92\t\t10\n",
      "\n",
      "\n",
      "__________________________________\n"
     ]
    }
   ],
   "source": [
    "for entity_name in entity_names:\n",
    "    print(entity_name, '\\n')\n",
    "    c = Counter([len(e['text'].split()) for e in entities if e['entity'] == entity_name])\n",
    "    print('\\n'.join(f'{v[1]}\\t\\t{v[0]}' for v in c.most_common(10)))\n",
    "    print('\\n\\n__________________________________')"
   ]
  },
  {
   "cell_type": "code",
   "execution_count": null,
   "id": "flexible-playlist",
   "metadata": {},
   "outputs": [],
   "source": []
  },
  {
   "cell_type": "code",
   "execution_count": null,
   "id": "through-convenience",
   "metadata": {},
   "outputs": [],
   "source": []
  },
  {
   "cell_type": "code",
   "execution_count": null,
   "id": "greek-bumper",
   "metadata": {},
   "outputs": [],
   "source": []
  }
 ],
 "metadata": {
  "kernelspec": {
   "display_name": "Python 3",
   "language": "python",
   "name": "python3"
  },
  "language_info": {
   "codemirror_mode": {
    "name": "ipython",
    "version": 3
   },
   "file_extension": ".py",
   "mimetype": "text/x-python",
   "name": "python",
   "nbconvert_exporter": "python",
   "pygments_lexer": "ipython3",
   "version": "3.8.8"
  }
 },
 "nbformat": 4,
 "nbformat_minor": 5
}
